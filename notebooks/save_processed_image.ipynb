{
 "cells": [
  {
   "cell_type": "code",
   "execution_count": 10,
   "id": "initial_id",
   "metadata": {
    "ExecuteTime": {
     "end_time": "2023-11-09T16:56:03.933325Z",
     "start_time": "2023-11-09T16:56:00.517820Z"
    },
    "collapsed": true
   },
   "outputs": [
    {
     "ename": "OSError",
     "evalue": "[Errno 30] Read-only file system: '/processed_images_folder'",
     "output_type": "error",
     "traceback": [
      "\u001b[0;31m---------------------------------------------------------------------------\u001b[0m",
      "\u001b[0;31mOSError\u001b[0m                                   Traceback (most recent call last)",
      "Cell \u001b[0;32mIn[10], line 23\u001b[0m\n\u001b[1;32m     20\u001b[0m split \u001b[38;5;241m=\u001b[39m \u001b[38;5;124m\"\u001b[39m\u001b[38;5;124mtrain\u001b[39m\u001b[38;5;124m\"\u001b[39m  \u001b[38;5;66;03m# Adjust as needed for 'val' or 'test'\u001b[39;00m\n\u001b[1;32m     22\u001b[0m \u001b[38;5;66;03m# Ensure the processed data folder exists\u001b[39;00m\n\u001b[0;32m---> 23\u001b[0m \u001b[43mprocessed_path\u001b[49m\u001b[38;5;241;43m.\u001b[39;49m\u001b[43mmkdir\u001b[49m\u001b[43m(\u001b[49m\u001b[43mparents\u001b[49m\u001b[38;5;241;43m=\u001b[39;49m\u001b[38;5;28;43;01mTrue\u001b[39;49;00m\u001b[43m,\u001b[49m\u001b[43m \u001b[49m\u001b[43mexist_ok\u001b[49m\u001b[38;5;241;43m=\u001b[39;49m\u001b[38;5;28;43;01mTrue\u001b[39;49;00m\u001b[43m)\u001b[49m\n\u001b[1;32m     25\u001b[0m \u001b[38;5;66;03m# Instantiate the dataset\u001b[39;00m\n\u001b[1;32m     26\u001b[0m forest_sat_dataset \u001b[38;5;241m=\u001b[39m dataset\u001b[38;5;241m.\u001b[39mMineSATDataset(split\u001b[38;5;241m=\u001b[39msplit, data_path\u001b[38;5;241m=\u001b[39mdata_path)\n",
      "File \u001b[0;32m/Library/Frameworks/Python.framework/Versions/3.11/lib/python3.11/pathlib.py:1116\u001b[0m, in \u001b[0;36mPath.mkdir\u001b[0;34m(self, mode, parents, exist_ok)\u001b[0m\n\u001b[1;32m   1112\u001b[0m \u001b[38;5;250m\u001b[39m\u001b[38;5;124;03m\"\"\"\u001b[39;00m\n\u001b[1;32m   1113\u001b[0m \u001b[38;5;124;03mCreate a new directory at this given path.\u001b[39;00m\n\u001b[1;32m   1114\u001b[0m \u001b[38;5;124;03m\"\"\"\u001b[39;00m\n\u001b[1;32m   1115\u001b[0m \u001b[38;5;28;01mtry\u001b[39;00m:\n\u001b[0;32m-> 1116\u001b[0m     \u001b[43mos\u001b[49m\u001b[38;5;241;43m.\u001b[39;49m\u001b[43mmkdir\u001b[49m\u001b[43m(\u001b[49m\u001b[38;5;28;43mself\u001b[39;49m\u001b[43m,\u001b[49m\u001b[43m \u001b[49m\u001b[43mmode\u001b[49m\u001b[43m)\u001b[49m\n\u001b[1;32m   1117\u001b[0m \u001b[38;5;28;01mexcept\u001b[39;00m \u001b[38;5;167;01mFileNotFoundError\u001b[39;00m:\n\u001b[1;32m   1118\u001b[0m     \u001b[38;5;28;01mif\u001b[39;00m \u001b[38;5;129;01mnot\u001b[39;00m parents \u001b[38;5;129;01mor\u001b[39;00m \u001b[38;5;28mself\u001b[39m\u001b[38;5;241m.\u001b[39mparent \u001b[38;5;241m==\u001b[39m \u001b[38;5;28mself\u001b[39m:\n",
      "\u001b[0;31mOSError\u001b[0m: [Errno 30] Read-only file system: '/processed_images_folder'"
     ]
    }
   ],
   "source": [
    "import os\n",
    "from PIL import Image\n",
    "from pathlib import Path\n",
    "from dotenv import load_dotenv\n",
    "\n",
    "os.chdir('/Users/glenn_hyh/Documents/github/bc-wildfire-prediction')\n",
    "from mine_seg_sat import dataset\n",
    "import tifffile as tiff\n",
    "import numpy as np\n",
    "import matplotlib.pyplot as plt\n",
    "\n",
    "load_dotenv()\n",
    "\n",
    "# data_path = Path(os.getenv(\"prepare_dataset_folder\"))\n",
    "# processed_path = Path(os.getenv(\"processed_images_folder\"))\n",
    "data_path = Path('/prepare_dataset_folder')\n",
    "processed_path = Path('/processed_images_folder')\n",
    "\n",
    "\n",
    "split = \"train\"  # Adjust as needed for 'val' or 'test'\n",
    "\n",
    "# Ensure the processed data folder exists\n",
    "processed_path.mkdir(parents=True, exist_ok=True)\n",
    "\n",
    "# Instantiate the dataset\n",
    "forest_sat_dataset = dataset.MineSATDataset(split=split, data_path=data_path)\n",
    "\n",
    "# Iterate over all dataset indices\n",
    "for index in range(len(forest_sat_dataset)):\n",
    "    # Get the filepaths for the current index\n",
    "    filepath = forest_sat_dataset.filepaths[index]\n",
    "\n",
    "    # Extract the original directory name\n",
    "    original_dir_name = Path(filepath).name\n",
    "\n",
    "    # Get the transformed images\n",
    "    images_dict = forest_sat_dataset.get_images(\n",
    "        index)  # Ensure you call the correct method\n",
    "\n",
    "    # Create a new directory path for the processed images\n",
    "    processed_dir_path = processed_path / original_dir_name\n",
    "    processed_dir_path.mkdir(parents=True, exist_ok=True)\n",
    "\n",
    "    for img_type, image in images_dict.items():\n",
    "        # Skip saving the mask if you only want the indices and RGB images\n",
    "        if img_type == \"Mask\":\n",
    "            continue\n",
    "\n",
    "        if img_type == \"NBR\":\n",
    "            # Apply color mapping for NBR\n",
    "            plt.imshow(image, cmap=plt.cm.RdYlGn, vmin=-1, vmax=1)\n",
    "            plt.colorbar(orientation='vertical')\n",
    "            plt.axis('off')\n",
    "\n",
    "            # Save the current figure to a numpy array\n",
    "            fig = plt.gcf()\n",
    "            plt.draw()\n",
    "            image_np = np.frombuffer(fig.canvas.tostring_rgb(), dtype=np.uint8)\n",
    "            image_np = image_np.reshape(\n",
    "                fig.canvas.get_width_height()[::-1] + (3,))\n",
    "\n",
    "            # Convert numpy array to PIL Image\n",
    "            pil_image = Image.fromarray(image_np)\n",
    "\n",
    "            # Define the filename, replacing .tif with .png for NBR\n",
    "            filename = f\"{img_type}.png\"\n",
    "\n",
    "            # Close the figure to free memory\n",
    "            plt.close(fig)\n",
    "        else:\n",
    "            # Normalize the image data to 0-255 for other image types\n",
    "            # Clip to the range you want\n",
    "            image = np.clip(image, 0, np.max(image))\n",
    "            image_8bit = ((image - np.min(image)) /\n",
    "                          (np.max(image) - np.min(image)) * 255).astype('uint8')\n",
    "\n",
    "            # If the image has more than one channel, convert it to RGB\n",
    "            if image_8bit.ndim > 2 and image_8bit.shape[2] > 3:\n",
    "                # Convert multi-band images (e.g., 4 bands) to RGB (3 bands) before saving as JPEG\n",
    "                image_8bit = image_8bit[:, :, :3]\n",
    "\n",
    "            # Create the PIL Image from the numpy array\n",
    "            pil_image = Image.fromarray(image_8bit)\n",
    "\n",
    "            # Define the filename, replacing .tif with .jpg for other image types\n",
    "            filename = f\"{img_type}.jpg\"\n",
    "\n",
    "        # Define the full path for the file\n",
    "        filepath = processed_dir_path / filename\n",
    "\n",
    "        # Save the image\n",
    "        pil_image.save(filepath)\n"
   ]
  },
  {
   "cell_type": "code",
   "execution_count": null,
   "id": "dc2f00d1e063ca7e",
   "metadata": {
    "collapsed": false
   },
   "outputs": [],
   "source": []
  }
 ],
 "metadata": {
  "kernelspec": {
   "display_name": "neu-capstone-venv",
   "language": "python",
   "name": "python3"
  },
  "language_info": {
   "codemirror_mode": {
    "name": "ipython",
    "version": 3
   },
   "file_extension": ".py",
   "mimetype": "text/x-python",
   "name": "python",
   "nbconvert_exporter": "python",
   "pygments_lexer": "ipython3",
   "version": "3.11.6"
  }
 },
 "nbformat": 4,
 "nbformat_minor": 5
}

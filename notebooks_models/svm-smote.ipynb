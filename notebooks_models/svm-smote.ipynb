{
 "cells": [
  {
   "cell_type": "code",
   "execution_count": 1,
   "metadata": {},
   "outputs": [
    {
     "name": "stderr",
     "output_type": "stream",
     "text": [
      "/var/folders/8t/jw61zz954rbcbps32kpn49l80000gn/T/ipykernel_21523/2108512029.py:2: DeprecationWarning: \n",
      "Pyarrow will become a required dependency of pandas in the next major release of pandas (pandas 3.0),\n",
      "(to allow more performant data types, such as the Arrow string type, and better interoperability with other libraries)\n",
      "but was not found to be installed on your system.\n",
      "If this would cause problems for you,\n",
      "please provide us feedback at https://github.com/pandas-dev/pandas/issues/54466\n",
      "        \n",
      "  import pandas as pd\n"
     ]
    }
   ],
   "source": [
    "import numpy as np\n",
    "import pandas as pd\n",
    "import matplotlib.pyplot as plt\n",
    "import ast\n",
    "\n",
    "from sklearn.model_selection import train_test_split\n",
    "from sklearn import svm\n",
    "from sklearn.metrics import classification_report, confusion_matrix, f1_score\n",
    "from sklearn.metrics import accuracy_score, precision_score, recall_score, average_precision_score\n",
    "from sklearn.model_selection import GridSearchCV, StratifiedShuffleSplit\n",
    "\n",
    "from imblearn.over_sampling import SMOTE\n",
    "from imblearn.under_sampling import RandomUnderSampler\n",
    "from imblearn.pipeline import Pipeline\n",
    "from sklearn.ensemble import RandomForestClassifier\n",
    "\n",
    "from imblearn.over_sampling import ADASYN"
   ]
  },
  {
   "cell_type": "code",
   "execution_count": 2,
   "metadata": {},
   "outputs": [
    {
     "name": "stdout",
     "output_type": "stream",
     "text": [
      "<class 'pandas.core.frame.DataFrame'>\n",
      "RangeIndex: 251 entries, 0 to 250\n",
      "Data columns (total 8 columns):\n",
      " #   Column  Non-Null Count  Dtype \n",
      "---  ------  --------------  ----- \n",
      " 0   ID      251 non-null    object\n",
      " 1   split   251 non-null    object\n",
      " 2   Label   251 non-null    bool  \n",
      " 3   NDVI    251 non-null    object\n",
      " 4   NBR     251 non-null    object\n",
      " 5   NDWI    251 non-null    object\n",
      " 6   NDBI    251 non-null    object\n",
      " 7   RGB     251 non-null    object\n",
      "dtypes: bool(1), object(7)\n",
      "memory usage: 14.1+ KB\n"
     ]
    }
   ],
   "source": [
    "# Load data\n",
    "# This assumes data is in a DataFrame called df with 'NDVI', 'NBR' as columns and 'label' as target column\n",
    "\n",
    "data = pd.read_csv('../dataset_tables/final_dataset.csv')\n",
    "data.info()"
   ]
  },
  {
   "cell_type": "code",
   "execution_count": 3,
   "metadata": {},
   "outputs": [],
   "source": [
    "# Randomly drop 190 rows where label is 0\n",
    "# data = data.drop(data[data.Label == 0].sample(190, random_state=1).index)"
   ]
  },
  {
   "cell_type": "code",
   "execution_count": 4,
   "metadata": {},
   "outputs": [],
   "source": [
    "# Function to convert string to list\n",
    "def convert_string_to_list(item):\n",
    "    if isinstance(item, (int, float)):\n",
    "        return [item]\n",
    "    s = str(item)\n",
    "    s = s.replace('nan', '0')\n",
    "    lst = ast.literal_eval(s)\n",
    "    return lst\n",
    "\n",
    "# Apply conversion function to relevant columns\n",
    "data['NDVI'] = data['NDVI'].apply(lambda x: convert_string_to_list(x))\n",
    "data['NBR'] = data['NBR'].apply(lambda x: convert_string_to_list(x))\n",
    "data['NDWI'] = data['NDWI'].apply(lambda x: convert_string_to_list(x))\n",
    "data['NDBI'] = data['NDBI'].apply(lambda x: convert_string_to_list(x))\n",
    "\n",
    "X = np.array([np.ravel(nbr + ndvi + ndwi + ndbi)\n",
    "        for nbr, ndvi, ndwi, ndbi in zip(data['NBR'], data['NDVI'], data['NDWI'], data['NDBI'])])\n",
    "\n",
    "y = np.array(data['Label'])"
   ]
  },
  {
   "cell_type": "code",
   "execution_count": 5,
   "metadata": {},
   "outputs": [],
   "source": [
    "# Identify training data\n",
    "# In datafram, if column split == \"train\" or \"val\" then it is training data\n",
    "# Otherwise it is test data\n",
    "# train_data = data[(data['split'] == 'train') | (data['split'] == 'val')]\n",
    "# test_data = data[data['split'] == 'test']\n",
    "\n",
    "# X_train = np.array([np.ravel(ndvi + ndwi + nbr + ndbi)\n",
    "#     for ndvi, ndwi, nbr, ndbi in zip(train_data['NDVI'], train_data['NDWI'], train_data['NBR'], train_data['NDBI'])])\n",
    "# X_train = np.nan_to_num(X_train)\n",
    "# y_train = train_data['Label'].values\n",
    "\n",
    "# X_test = np.array([np.ravel(ndvi + ndwi + nbr + ndbi)\n",
    "#     for ndvi, ndwi, nbr, ndbi in zip(test_data['NDVI'], test_data['NDWI'], test_data['NBR'], test_data['NDBI'])])\n",
    "# X_test = np.nan_to_num(X_test)\n",
    "# y_test = test_data['Label'].values"
   ]
  },
  {
   "cell_type": "code",
   "execution_count": null,
   "metadata": {},
   "outputs": [],
   "source": [
    "# Apply SMOTE\n",
    "# smote = SMOTE(random_state=42)\n",
    "# X_train_resampled, y_train_resampled = smote.fit_resample(X_train, y_train)"
   ]
  },
  {
   "cell_type": "code",
   "execution_count": 6,
   "metadata": {},
   "outputs": [],
   "source": [
    "# Apply ADASYN\n",
    "adasyn = ADASYN(random_state=42)\n",
    "X, y = adasyn.fit_resample(X, y)"
   ]
  },
  {
   "cell_type": "code",
   "execution_count": 11,
   "metadata": {},
   "outputs": [],
   "source": [
    "X_train, X_test, y_train, y_test = train_test_split(X, y, test_size=0.2, random_state=42)"
   ]
  },
  {
   "cell_type": "code",
   "execution_count": 7,
   "metadata": {},
   "outputs": [],
   "source": [
    "# Define parameter grid for SVM\n",
    "C_range = np.logspace(-3, 3, 7)\n",
    "gamma_range = np.logspace(-9, 3, 13)\n",
    "param_grid = dict(gamma=gamma_range, C=C_range)"
   ]
  },
  {
   "cell_type": "code",
   "execution_count": 12,
   "metadata": {},
   "outputs": [
    {
     "name": "stdout",
     "output_type": "stream",
     "text": [
      "The best parameters are {'C': 10.0, 'gamma': 0.01} with a score of 0.88\n"
     ]
    }
   ],
   "source": [
    "# Perform grid search with cross-validation\n",
    "cv = StratifiedShuffleSplit(n_splits=5, test_size=0.2, random_state=42)\n",
    "grid = GridSearchCV(svm.SVC(), param_grid=param_grid, cv=cv)\n",
    "grid.fit(X_train, y_train)\n",
    "\n",
    "print(\"The best parameters are %s with a score of %0.2f\" % (grid.best_params_, grid.best_score_))\n"
   ]
  },
  {
   "cell_type": "code",
   "execution_count": 13,
   "metadata": {},
   "outputs": [],
   "source": [
    "# Initialize SVM model with best parameters\n",
    "best_params = grid.best_params_\n",
    "model = svm.SVC(kernel='rbf', gamma=best_params['gamma'], C=best_params['C']).fit(X_train, y_train)"
   ]
  },
  {
   "cell_type": "code",
   "execution_count": 14,
   "metadata": {},
   "outputs": [
    {
     "name": "stdout",
     "output_type": "stream",
     "text": [
      "Accuracy: 0.7647\n",
      "Precision: 0.7143\n",
      "Recall: 0.8537\n",
      "F1-score: 0.7778\n",
      "\n",
      "Classification Report:\n",
      "              precision    recall  f1-score   support\n",
      "\n",
      "       False       0.83      0.68      0.75        44\n",
      "        True       0.71      0.85      0.78        41\n",
      "\n",
      "    accuracy                           0.76        85\n",
      "   macro avg       0.77      0.77      0.76        85\n",
      "weighted avg       0.78      0.76      0.76        85\n",
      "\n",
      "\n",
      "Confusion Matrix:\n",
      "[[30 14]\n",
      " [ 6 35]]\n"
     ]
    }
   ],
   "source": [
    "# Evaluate model on test set\n",
    "y_pred = model.predict(X_test)\n",
    "accuracy = accuracy_score(y_test, y_pred)\n",
    "precision = precision_score(y_test, y_pred)\n",
    "recall = recall_score(y_test, y_pred)\n",
    "f1 = f1_score(y_test, y_pred)\n",
    "\n",
    "print(f\"Accuracy: {accuracy:.4f}\")\n",
    "print(f\"Precision: {precision:.4f}\")\n",
    "print(f\"Recall: {recall:.4f}\")\n",
    "print(f\"F1-score: {f1:.4f}\")\n",
    "\n",
    "print(\"\\nClassification Report:\")\n",
    "print(classification_report(y_test, y_pred))\n",
    "print(\"\\nConfusion Matrix:\")\n",
    "print(confusion_matrix(y_test, y_pred))"
   ]
  },
  {
   "cell_type": "code",
   "execution_count": 15,
   "metadata": {},
   "outputs": [
    {
     "data": {
      "image/png": "[encoded data removed]",
      "text/plain": [
       "<Figure size 640x480 with 1 Axes>"
      ]
     },
     "metadata": {},
     "output_type": "display_data"
    }
   ],
   "source": [
    "# Visualize model evaluation metrics\n",
    "metrics = ['Accuracy', 'Precision', 'Recall', 'F1-score']\n",
    "values = [accuracy, precision, recall, f1]\n",
    "\n",
    "bars = plt.bar(metrics, values, color=['blue', 'green', 'red', 'orange'])\n",
    "\n",
    "for bar in bars:\n",
    "    yval = bar.get_height()\n",
    "    plt.text(bar.get_x() + bar.get_width()/2, yval + 0.01, round(yval, 2), ha='center', va='bottom')\n",
    "\n",
    "plt.ylabel('Score')\n",
    "plt.title('Model Evaluation Metrics - SVM')\n",
    "plt.ylim(0, 1.2)\n",
    "plt.show()"
   ]
  }
 ],
 "metadata": {
  "kernelspec": {
   "display_name": "Python 3",
   "language": "python",
   "name": "python3"
  },
  "language_info": {
   "codemirror_mode": {
    "name": "ipython",
    "version": 3
   },
   "file_extension": ".py",
   "mimetype": "text/x-python",
   "name": "python",
   "nbconvert_exporter": "python",
   "pygments_lexer": "ipython3",
   "version": "3.11.6"
  }
 },
 "nbformat": 4,
 "nbformat_minor": 2
}

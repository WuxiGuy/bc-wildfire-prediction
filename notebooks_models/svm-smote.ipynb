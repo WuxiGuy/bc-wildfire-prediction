{
 "cells": [
  {
   "cell_type": "code",
   "execution_count": 78,
   "metadata": {},
   "outputs": [],
   "source": [
    "import numpy as np\n",
    "import pandas as pd\n",
    "import matplotlib.pyplot as plt\n",
    "import ast\n",
    "\n",
    "from sklearn.model_selection import train_test_split\n",
    "from sklearn import svm\n",
    "from sklearn.metrics import classification_report, confusion_matrix, f1_score\n",
    "from sklearn.metrics import accuracy_score, precision_score, recall_score\n",
    "from sklearn.model_selection import GridSearchCV, StratifiedShuffleSplit\n",
    "\n",
    "from imblearn.over_sampling import ADASYN"
   ]
  },
  {
   "cell_type": "code",
   "execution_count": 79,
   "metadata": {},
   "outputs": [
    {
     "name": "stdout",
     "output_type": "stream",
     "text": [
      "<class 'pandas.core.frame.DataFrame'>\n",
      "RangeIndex: 251 entries, 0 to 250\n",
      "Data columns (total 8 columns):\n",
      " #   Column  Non-Null Count  Dtype \n",
      "---  ------  --------------  ----- \n",
      " 0   ID      251 non-null    object\n",
      " 1   split   251 non-null    object\n",
      " 2   Label   251 non-null    bool  \n",
      " 3   NDVI    251 non-null    object\n",
      " 4   NBR     251 non-null    object\n",
      " 5   NDWI    251 non-null    object\n",
      " 6   NDBI    251 non-null    object\n",
      " 7   RGB     251 non-null    object\n",
      "dtypes: bool(1), object(7)\n",
      "memory usage: 14.1+ KB\n"
     ]
    }
   ],
   "source": [
    "# Load data\n",
    "# This assumes data is in a DataFrame called df with 'NDVI', 'NBR' as columns and 'label' as target column\n",
    "\n",
    "data = pd.read_csv('../dataset_tables/final_dataset.csv')\n",
    "data.info()"
   ]
  },
  {
   "cell_type": "code",
   "execution_count": 81,
   "metadata": {},
   "outputs": [],
   "source": [
    "# Function to convert string to list\n",
    "def convert_string_to_list(item):\n",
    "    if isinstance(item, (int, float)):\n",
    "        return [item]\n",
    "    s = str(item)\n",
    "    s = s.replace('nan', '0')\n",
    "    lst = ast.literal_eval(s)\n",
    "    return lst\n",
    "\n",
    "# Apply conversion function to relevant columns\n",
    "data['NDVI'] = data['NDVI'].apply(lambda x: convert_string_to_list(x))\n",
    "data['NBR'] = data['NBR'].apply(lambda x: convert_string_to_list(x))\n",
    "data['NDWI'] = data['NDWI'].apply(lambda x: convert_string_to_list(x))\n",
    "data['NDBI'] = data['NDBI'].apply(lambda x: convert_string_to_list(x))\n",
    "\n",
    "X = np.array([np.ravel(ndvi + ndwi + ndbi)\n",
    "        for ndvi, ndwi, ndbi in zip(data['NDVI'], data['NDWI'], data['NDBI'])])\n",
    "\n",
    "y = np.array(data['Label'])"
   ]
  },
  {
   "cell_type": "code",
   "execution_count": 83,
   "metadata": {},
   "outputs": [],
   "source": [
    "# Apply ADASYN\n",
    "adasyn = ADASYN(random_state=42)\n",
    "X, y = adasyn.fit_resample(X, y)"
   ]
  },
  {
   "cell_type": "code",
   "execution_count": 84,
   "metadata": {},
   "outputs": [],
   "source": [
    "X_train, X_test, y_train, y_test = train_test_split(X, y, test_size=0.2, random_state=42)"
   ]
  },
  {
   "cell_type": "code",
   "execution_count": 85,
   "metadata": {},
   "outputs": [],
   "source": [
    "# Define parameter grid for SVM\n",
    "C_range = np.logspace(-3, 3, 7)\n",
    "gamma_range = np.logspace(-9, 3, 13)\n",
    "param_grid = dict(gamma=gamma_range, C=C_range)"
   ]
  },
  {
   "cell_type": "code",
   "execution_count": 86,
   "metadata": {},
   "outputs": [
    {
     "name": "stdout",
     "output_type": "stream",
     "text": [
      "The best parameters are {'C': 1.0, 'gamma': 0.01} with a score of 0.84\n"
     ]
    }
   ],
   "source": [
    "# Perform grid search with cross-validation\n",
    "cv = StratifiedShuffleSplit(n_splits=5, test_size=0.2, random_state=42)\n",
    "grid = GridSearchCV(svm.SVC(), param_grid=param_grid, cv=cv)\n",
    "grid.fit(X_train, y_train)\n",
    "\n",
    "print(\"The best parameters are %s with a score of %0.2f\" % (grid.best_params_, grid.best_score_))\n"
   ]
  },
  {
   "cell_type": "code",
   "execution_count": 87,
   "metadata": {},
   "outputs": [],
   "source": [
    "# Initialize SVM model with best parameters\n",
    "best_params = grid.best_params_\n",
    "model = svm.SVC(kernel='rbf', gamma=best_params['gamma'], C=best_params['C']).fit(X_train, y_train)"
   ]
  },
  {
   "cell_type": "code",
   "execution_count": 88,
   "metadata": {},
   "outputs": [
    {
     "name": "stdout",
     "output_type": "stream",
     "text": [
      "Accuracy: 0.7882\n",
      "Precision: 0.7500\n",
      "Recall: 0.8864\n",
      "F1-score: 0.8125\n",
      "\n",
      "Classification Report:\n",
      "              precision    recall  f1-score   support\n",
      "\n",
      "       False       0.85      0.68      0.76        41\n",
      "        True       0.75      0.89      0.81        44\n",
      "\n",
      "    accuracy                           0.79        85\n",
      "   macro avg       0.80      0.78      0.78        85\n",
      "weighted avg       0.80      0.79      0.79        85\n",
      "\n",
      "\n",
      "Confusion Matrix:\n",
      "[[28 13]\n",
      " [ 5 39]]\n"
     ]
    }
   ],
   "source": [
    "# Evaluate model on test set\n",
    "y_pred = model.predict(X_test)\n",
    "accuracy = accuracy_score(y_test, y_pred)\n",
    "precision = precision_score(y_test, y_pred)\n",
    "recall = recall_score(y_test, y_pred)\n",
    "f1 = f1_score(y_test, y_pred)\n",
    "\n",
    "print(f\"Accuracy: {accuracy:.4f}\")\n",
    "print(f\"Precision: {precision:.4f}\")\n",
    "print(f\"Recall: {recall:.4f}\")\n",
    "print(f\"F1-score: {f1:.4f}\")\n",
    "\n",
    "print(\"\\nClassification Report:\")\n",
    "print(classification_report(y_test, y_pred))\n",
    "print(\"\\nConfusion Matrix:\")\n",
    "print(confusion_matrix(y_test, y_pred))"
   ]
  },
  {
   "cell_type": "code",
   "execution_count": 89,
   "metadata": {},
   "outputs": [
    {
     "data": {
      "image/png": "[encoded data removed]",
      "text/plain": [
       "<Figure size 640x480 with 1 Axes>"
      ]
     },
     "metadata": {},
     "output_type": "display_data"
    }
   ],
   "source": [
    "# Visualize model evaluation metrics\n",
    "metrics = ['Accuracy', 'Precision', 'Recall', 'F1-score']\n",
    "values = [accuracy, precision, recall, f1]\n",
    "\n",
    "bars = plt.bar(metrics, values, color=['blue', 'green', 'red', 'orange'])\n",
    "\n",
    "for bar in bars:\n",
    "    yval = bar.get_height()\n",
    "    plt.text(bar.get_x() + bar.get_width()/2, yval + 0.01, round(yval, 2), ha='center', va='bottom')\n",
    "\n",
    "plt.ylabel('Score')\n",
    "plt.title('Model Evaluation Metrics - SVM')\n",
    "plt.ylim(0, 1.2)\n",
    "plt.show()"
   ]
  }
 ],
 "metadata": {
  "kernelspec": {
   "display_name": "Python 3",
   "language": "python",
   "name": "python3"
  },
  "language_info": {
   "codemirror_mode": {
    "name": "ipython",
    "version": 3
   },
   "file_extension": ".py",
   "mimetype": "text/x-python",
   "name": "python",
   "nbconvert_exporter": "python",
   "pygments_lexer": "ipython3",
   "version": "3.11.6"
  }
 },
 "nbformat": 4,
 "nbformat_minor": 2
}

{
 "cells": [
  {
   "cell_type": "code",
   "execution_count": 129,
   "metadata": {},
   "outputs": [],
   "source": [
    "import numpy as np\n",
    "import pandas as pd\n",
    "import matplotlib.pyplot as plt\n",
    "import ast\n",
    "\n",
    "from sklearn.model_selection import train_test_split\n",
    "from sklearn import svm\n",
    "from sklearn.metrics import classification_report, confusion_matrix\n",
    "from sklearn.metrics import accuracy_score, precision_score, recall_score, average_precision_score\n",
    "from sklearn.model_selection import GridSearchCV, StratifiedShuffleSplit\n"
   ]
  },
  {
   "cell_type": "code",
   "execution_count": 130,
   "metadata": {},
   "outputs": [
    {
     "name": "stdout",
     "output_type": "stream",
     "text": [
      "<class 'pandas.core.frame.DataFrame'>\n",
      "RangeIndex: 221 entries, 0 to 220\n",
      "Data columns (total 7 columns):\n",
      " #   Column  Non-Null Count  Dtype \n",
      "---  ------  --------------  ----- \n",
      " 0   ID      221 non-null    object\n",
      " 1   split   221 non-null    object\n",
      " 2   NDVI    221 non-null    object\n",
      " 3   NBR     221 non-null    object\n",
      " 4   NDWI    221 non-null    object\n",
      " 5   RGB     221 non-null    object\n",
      " 6   Label   221 non-null    bool  \n",
      "dtypes: bool(1), object(6)\n",
      "memory usage: 10.7+ KB\n"
     ]
    }
   ],
   "source": [
    "# Load data\n",
    "# This assumes data is in a DataFrame called df with 'NDVI', 'NBR' as columns and 'label' as target column\n",
    "\n",
    "data = pd.read_csv('../dataset_tables/numerical_data.csv')\n",
    "data.info()\n"
   ]
  },
  {
   "cell_type": "code",
   "execution_count": 131,
   "metadata": {},
   "outputs": [],
   "source": [
    "# Randomly drop 190 rows where label is 0\n",
    "data = data.drop(data[data.Label == 0].sample(190, random_state=1).index)"
   ]
  },
  {
   "cell_type": "code",
   "execution_count": 132,
   "metadata": {},
   "outputs": [],
   "source": [
    "def convert_string_to_list(item):\n",
    "    if isinstance(item, (int, float)):\n",
    "        return [item]\n",
    "    s = str(item)\n",
    "    s = s.replace('nan', '0')\n",
    "    lst = ast.literal_eval(s)\n",
    "    return lst\n",
    "\n",
    "data['NDVI'] = data['NDVI'].apply(lambda x: convert_string_to_list(x))\n",
    "# data['NBR'] = data['NBR'].apply(lambda x: convert_string_to_list(x))\n",
    "data['NDWI'] = data['NDWI'].apply(lambda x: convert_string_to_list(x))\n"
   ]
  },
  {
   "cell_type": "code",
   "execution_count": 133,
   "metadata": {},
   "outputs": [],
   "source": [
    "# Combine NBR and NDVI data into a single feature array\n",
    "# Flatten each sublist and concatenate NBR and NDVI for each row\n",
    "X = np.array([np.ravel(ndvi + ndwi) for ndvi, ndwi in zip(data['NDVI'], data['NDWI'])])\n",
    "X = np.nan_to_num(X)\n",
    "\n",
    "# Labels\n",
    "y = data['Label'].values\n",
    "\n",
    "X_train, X_test, y_train, y_test = train_test_split(X, y, test_size=0.3, random_state=42)\n"
   ]
  },
  {
   "cell_type": "code",
   "execution_count": null,
   "metadata": {},
   "outputs": [],
   "source": []
  },
  {
   "cell_type": "code",
   "execution_count": 134,
   "metadata": {},
   "outputs": [
    {
     "name": "stdout",
     "output_type": "stream",
     "text": [
      "[-0.12356214 -0.24088931  0.32752668 ... -0.1353735  -0.26212889\n",
      " -0.2298705 ]\n",
      "[ 0.01918443  0.18289769  0.1300913  ... -0.08440494 -0.08304762\n",
      " -0.15258482]\n",
      "[ 0.40542084  0.13816437  0.27488204 ... -0.24485159 -0.2162704\n",
      " -0.23505184]\n",
      "[0.52713815 0.66016273 0.529254   ... 0.27435403 0.22351079 0.27732674]\n",
      "[ 0.78596433  0.743387    0.77890739 ... -0.50630262 -0.62637496\n",
      " -0.60018601]\n",
      "[0. 0. 0. ... 0. 0. 0.]\n",
      "[-0.46648037 -0.57416174 -0.29516176 ...  0.          0.\n",
      "  0.        ]\n",
      "[-0.03995303 -0.03071563 -0.02626359 ... -0.23146281 -0.04204116\n",
      " -0.03376289]\n",
      "[ 0.31618916  0.37545025  0.38281621 ... -0.07261358 -0.13428564\n",
      " -0.22358116]\n",
      "[-0.06984493 -0.22634246  0.04612379 ...  0.01748632  0.19421507\n",
      "  0.20002992]\n",
      "[-0.54771169 -0.79758612 -0.80002304 ... -0.11384983 -0.12681015\n",
      " -0.01091081]\n",
      "[ 0.          0.          0.         ... -0.03200495  0.02242078\n",
      " -0.06995302]\n",
      "[ 0.20180429 -0.01873509  0.54716305 ... -0.09582216 -0.09095636\n",
      " -0.08062224]\n",
      "[0.2104763  0.57107059 0.57580591 ... 0.54177674 0.54545166 0.50650587]\n",
      "[ 0.10345527 -0.05001303  0.10392353 ... -0.05225223  0.06700961\n",
      "  0.13632936]\n",
      "[ 0.5367241   0.54293239  0.47815221 ... -0.0517573  -0.2503032\n",
      " -0.2710236 ]\n",
      "[ 0.33746745  0.20539069  0.08375777 ... -0.0599634  -0.15357383\n",
      " -0.2015522 ]\n",
      "[-0.36451727 -0.32871509 -0.18265862 ... -0.24457739 -0.20368736\n",
      " -0.21379691]\n",
      "[ 0.70167397  0.76743512  0.38046496 ... -0.90432627 -0.75170762\n",
      " -0.15862398]\n",
      "[ 0.03084646 -0.01529028 -0.24602779 ... -0.49300719 -0.58116576\n",
      " -0.59850685]\n",
      "[ 0.16580347  0.10047372  0.11722031 ... -0.3764572  -0.35814081\n",
      " -0.25502591]\n",
      "[0.41772279 0.5124907  0.37474551 ... 0.15175395 0.33024193 0.35031093]\n",
      "[ 0.43524586  0.61539126  0.53798469 ... -0.19070867 -0.20491528\n",
      " -0.23054571]\n",
      "[ 0.79135188  0.75659675  0.95375026 ... -0.84614076 -0.71476639\n",
      " -0.78058158]\n",
      "[ 0.20507304  0.23263887 -0.09627355 ...  0.03178759  0.10551112\n",
      "  0.01017557]\n",
      "[ 0.43472757  0.38828295  0.32206476 ...  0.44136834  0.2812234\n",
      " -0.03157603]\n",
      "[0. 0. 0. ... 0. 0. 0.]\n",
      "[ 0.02756712  0.20129417  0.18468467 ... -0.07965972 -0.081431\n",
      " -0.15557765]\n",
      "[ 0.86518659  0.87490077  0.88065156 ... -0.35416885 -0.6461541\n",
      " -0.47316847]\n",
      "[-0.19076596 -0.15413028 -0.02565683 ... -0.07932417 -0.06346642\n",
      " -0.19690672]\n",
      "[0.49292437 0.44791303 0.42762702 ... 0.25576285 0.44475986 0.19886975]\n"
     ]
    }
   ],
   "source": [
    "for i in range(len(X)):\n",
    "    print(X[i])"
   ]
  },
  {
   "cell_type": "code",
   "execution_count": 135,
   "metadata": {},
   "outputs": [
    {
     "name": "stdout",
     "output_type": "stream",
     "text": [
      "The best parameters are {'C': 1.0, 'gamma': 0.1} with a score of 0.66\n"
     ]
    }
   ],
   "source": [
    "# Fine tune gamma and C range for RBF kernel\n",
    "C_range = np.logspace(-3, 3, 7)\n",
    "gamma_range = np.logspace(-9, 3, 13)\n",
    "param_grid = dict(gamma=gamma_range, C=C_range)\n",
    "cv = StratifiedShuffleSplit(n_splits=5, test_size=0.2, random_state=42)\n",
    "grid = GridSearchCV(svm.SVC(), param_grid=param_grid, cv=cv)\n",
    "grid.fit(X, y)\n",
    "\n",
    "print(\n",
    "    \"The best parameters are %s with a score of %0.2f\"\n",
    "    % (grid.best_params_, grid.best_score_)\n",
    ")\n"
   ]
  },
  {
   "cell_type": "code",
   "execution_count": 136,
   "metadata": {},
   "outputs": [],
   "source": [
    "# Classifier used: Radial Basis Function (RBF)\n",
    "# it can combine multiple polynomial kernels multiple times of different degrees to\n",
    "# project the non-linearly separable data into higher dimensional space\n",
    "\n",
    "# gamma: https://www.ibm.com/docs/sr/spss-modeler/18.0.0?topic=node-svm-expert-options\n",
    "# C: https://vitalflux.com/svm-rbf-kernel-parameters-code-sample/\n",
    "\n",
    "model = svm.SVC(kernel='rbf', gamma=0.01, C=1.0).fit(X_train, y_train)\n"
   ]
  },
  {
   "cell_type": "code",
   "execution_count": 137,
   "metadata": {},
   "outputs": [],
   "source": [
    "# Calculate model efficiency\n",
    "\n",
    "y_pred = model.predict(X_test)\n"
   ]
  },
  {
   "cell_type": "code",
   "execution_count": 138,
   "metadata": {},
   "outputs": [
    {
     "name": "stdout",
     "output_type": "stream",
     "text": [
      "Accuracy: 0.8000\n",
      "Precision: 0.8889\n",
      "Recall: 0.6667\n",
      "Mean Average Precision: 0.5333\n",
      "F1-score: 0.7619\n",
      "\n",
      "Classification Report:\n",
      "              precision    recall  f1-score   support\n",
      "\n",
      "       False       0.78      1.00      0.88         7\n",
      "        True       1.00      0.33      0.50         3\n",
      "\n",
      "    accuracy                           0.80        10\n",
      "   macro avg       0.89      0.67      0.69        10\n",
      "weighted avg       0.84      0.80      0.76        10\n",
      "\n",
      "\n",
      "Confusion Matrix:\n",
      "[[7 0]\n",
      " [2 1]]\n"
     ]
    }
   ],
   "source": [
    "# Calculate the accuracy and f1 scores for SVM with RBF kernel\n",
    "\n",
    "accuracy = accuracy_score(y_test, y_pred)\n",
    "precision = precision_score(y_test, y_pred, average='macro')\n",
    "recall = recall_score(y_test, y_pred, average='macro')\n",
    "average_precision = average_precision_score(y_test, y_pred.reshape(-1, 1), average='macro')\n",
    "#using np calculate f1 score with precision and recall\n",
    "f1_score = 2 * (precision * recall) / (precision + recall)\n",
    "\n",
    "print(f\"Accuracy: {accuracy:.4f}\")\n",
    "print(f\"Precision: {precision:.4f}\")\n",
    "print(f\"Recall: {recall:.4f}\")\n",
    "print(f\"Mean Average Precision: {average_precision:.4f}\")\n",
    "print(f\"F1-score: {f1_score:.4f}\")\n",
    "\n",
    "print(\"\\nClassification Report:\")\n",
    "print(classification_report(y_test, y_pred))\n",
    "print(\"\\nConfusion Matrix:\")\n",
    "print(confusion_matrix(y_test, y_pred))\n"
   ]
  },
  {
   "cell_type": "code",
   "execution_count": 139,
   "metadata": {},
   "outputs": [
    {
     "data": {
      "image/png": "[encoded data removed]",
      "text/plain": [
       "<Figure size 640x480 with 1 Axes>"
      ]
     },
     "metadata": {},
     "output_type": "display_data"
    }
   ],
   "source": [
    "# Visualize the model evaluation metrics\n",
    "\n",
    "metrics = ['Accuracy', 'Precision', 'Recall', 'mAP', 'F1-score']\n",
    "values = [accuracy, precision, recall, average_precision, 0.69]\n",
    "\n",
    "bars = plt.bar(metrics, values, color=['blue', 'green', 'red', 'orange', 'purple'])\n",
    "\n",
    "for bar in bars:\n",
    "    yval = bar.get_height()\n",
    "    plt.text(bar.get_x() + bar.get_width()/2, yval + 0.01, round(yval, 2), ha='center', va='bottom')\n",
    "\n",
    "# plt.bar(metrics, values, color=['blue', 'green', 'red', 'orange'])\n",
    "plt.ylabel('Score')\n",
    "plt.title('Model Evaluation Metrics - SVM')\n",
    "plt.ylim(0, 1)  # to set y-axis limits from 0 to 1\n",
    "plt.show()\n"
   ]
  },
  {
   "cell_type": "code",
   "execution_count": null,
   "metadata": {},
   "outputs": [],
   "source": []
  }
 ],
 "metadata": {
  "kernelspec": {
   "display_name": "env",
   "language": "python",
   "name": "python3"
  },
  "language_info": {
   "codemirror_mode": {
    "name": "ipython",
    "version": 3
   },
   "file_extension": ".py",
   "mimetype": "text/x-python",
   "name": "python",
   "nbconvert_exporter": "python",
   "pygments_lexer": "ipython3",
   "version": "3.11.6"
  }
 },
 "nbformat": 4,
 "nbformat_minor": 2
}

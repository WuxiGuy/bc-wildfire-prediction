{
 "cells": [
  {
   "cell_type": "code",
   "execution_count": 14,
   "metadata": {},
   "outputs": [],
   "source": [
    "import numpy as np\n",
    "import pandas as pd\n",
    "import math\n",
    "import ast\n",
    "import seaborn as sns\n",
    "import matplotlib.pyplot as plt\n",
    "import copy\n",
    "\n",
    "import torch\n",
    "from torch.utils.data import Dataset, DataLoader, WeightedRandomSampler\n",
    "from torchvision import models\n",
    "from torch.optim.lr_scheduler import StepLR\n",
    "\n",
    "from sklearn.model_selection import train_test_split\n",
    "from sklearn.metrics import classification_report, confusion_matrix\n",
    "from sklearn.metrics import accuracy_score, precision_score, recall_score, f1_score\n",
    "from imblearn.over_sampling import ADASYN"
   ]
  },
  {
   "cell_type": "code",
   "execution_count": 2,
   "metadata": {},
   "outputs": [],
   "source": [
    "# Load the data\n",
    "# This assumes data is in a DataFrame called df with 'NDVI', 'NBR', 'NDWI' and 'NDBI'\n",
    "# as columns and 'label' as target column\n",
    "data = pd.read_csv('../dataset_tables/final_dataset.csv')\n",
    "\n",
    "def convert_string_to_list(item):\n",
    "    if isinstance(item, (int, float)):\n",
    "        return [item]\n",
    "    s = str(item)\n",
    "    s = s.replace('nan', '0')\n",
    "    lst = ast.literal_eval(s)\n",
    "    return lst"
   ]
  },
  {
   "cell_type": "code",
   "execution_count": 3,
   "metadata": {},
   "outputs": [],
   "source": [
    "data['NDVI'] = data['NDVI'].apply(lambda x: convert_string_to_list(x))\n",
    "data['NBR'] = data['NBR'].apply(lambda x: convert_string_to_list(x))\n",
    "data['NDWI'] = data['NDWI'].apply(lambda x: convert_string_to_list(x))\n",
    "data['NDBI'] = data['NDBI'].apply(lambda x: convert_string_to_list(x))\n",
    "\n",
    "# X = np.array([np.ravel(nbr + ndvi + ndwi + ndbi)\n",
    "#         for nbr, ndvi, ndwi, ndbi\n",
    "#         in zip(data['NBR'], data['NDVI'], data['NDWI'], data['NDBI'])])\n",
    "\n",
    "X = np.array([np.ravel(ndvi + ndwi + ndbi)\n",
    "        for ndvi, ndwi, ndbi\n",
    "        in zip(data['NDVI'], data['NDWI'], data['NDBI'])])\n",
    "\n",
    "y = data['Label'].values"
   ]
  },
  {
   "cell_type": "code",
   "execution_count": 4,
   "metadata": {},
   "outputs": [],
   "source": [
    "# 初始化ADASYN对象\n",
    "adasyn = ADASYN(random_state=42)\n",
    "\n",
    "# 应用ADASYN过采样\n",
    "X_res, y_res = adasyn.fit_resample(X, y)"
   ]
  },
  {
   "cell_type": "code",
   "execution_count": 5,
   "metadata": {},
   "outputs": [],
   "source": [
    "# Split the data into train, validation, and test sets\n",
    "X_train_val, X_test, y_train_val, y_test = train_test_split(X_res, y_res, test_size=0.2, random_state=42)\n",
    "X_train, X_val, y_train, y_val = train_test_split(X_train_val, y_train_val, test_size=0.25, random_state=42)\n"
   ]
  },
  {
   "cell_type": "code",
   "execution_count": 6,
   "metadata": {},
   "outputs": [],
   "source": [
    "# Data resampling based on weights for the training set\n",
    "class_counts = np.bincount(y_train.astype(int))\n",
    "weights = 1. / class_counts\n",
    "samples_weights = weights[y_train.astype(int)]\n",
    "samples_weights_tensor = torch.from_numpy(samples_weights).double()\n",
    "sampler = WeightedRandomSampler(samples_weights_tensor, len(samples_weights_tensor))\n",
    "\n",
    "# Convert data to tensors\n",
    "X_train_tensor = torch.tensor(X_train, dtype=torch.float32)\n",
    "y_train_tensor = torch.tensor(y_train, dtype=torch.long)\n",
    "X_val_tensor = torch.tensor(X_val, dtype=torch.float32)\n",
    "y_val_tensor = torch.tensor(y_val, dtype=torch.long)\n"
   ]
  },
  {
   "cell_type": "code",
   "execution_count": 7,
   "metadata": {},
   "outputs": [],
   "source": [
    "# Dataset class\n",
    "class MyDataset(Dataset):\n",
    "    def __init__(self, X_data, y_data):\n",
    "        self.X_data = X_data\n",
    "        self.y_data = y_data\n",
    "\n",
    "    def __len__(self):\n",
    "        return len(self.X_data)\n",
    "\n",
    "    def __getitem__(self, index):\n",
    "        # Assuming each feature set is a combination of three images each as single channel\n",
    "        num_total_features = self.X_data.shape[1]\n",
    "        num_features_per_image = num_total_features // 3\n",
    "        height = width = int(math.sqrt(num_features_per_image))\n",
    "        image = self.X_data[index].reshape(3, height, width)\n",
    "        label = self.y_data[index]\n",
    "        return image, label\n",
    "\n",
    "# Create DataLoaders\n",
    "train_dataset = MyDataset(X_train_tensor, y_train_tensor)\n",
    "val_dataset = MyDataset(X_val_tensor, y_val_tensor)\n",
    "train_loader = DataLoader(dataset=train_dataset, batch_size=10, sampler=sampler)\n",
    "val_loader = DataLoader(dataset=val_dataset, batch_size=10)"
   ]
  },
  {
   "cell_type": "code",
   "execution_count": 8,
   "metadata": {},
   "outputs": [
    {
     "name": "stderr",
     "output_type": "stream",
     "text": [
      "/Users/glenn_hyh/Documents/github/bc-wildfire-prediction/neu-capstone-venv/lib/python3.11/site-packages/torchvision/models/_utils.py:208: UserWarning: The parameter 'pretrained' is deprecated since 0.13 and may be removed in the future, please use 'weights' instead.\n",
      "  warnings.warn(\n",
      "/Users/glenn_hyh/Documents/github/bc-wildfire-prediction/neu-capstone-venv/lib/python3.11/site-packages/torchvision/models/_utils.py:223: UserWarning: Arguments other than a weight enum or `None` for 'weights' are deprecated since 0.13 and may be removed in the future. The current behavior is equivalent to passing `weights=ResNet18_Weights.IMAGENET1K_V1`. You can also use `weights=ResNet18_Weights.DEFAULT` to get the most up-to-date weights.\n",
      "  warnings.warn(msg)\n"
     ]
    }
   ],
   "source": [
    "# Load and modify a pre-trained ResNet model\n",
    "model = models.resnet18(pretrained=True)\n",
    "num_ftrs = model.fc.in_features\n",
    "model.fc = torch.nn.Linear(num_ftrs, 2)  # Adapted for binary classification\n",
    "\n",
    "# Define the loss function and optimizer\n",
    "criterion = torch.nn.CrossEntropyLoss()\n",
    "optimizer = torch.optim.Adam(model.parameters(), lr=0.001)"
   ]
  },
  {
   "cell_type": "code",
   "execution_count": 9,
   "metadata": {},
   "outputs": [
    {
     "name": "stdout",
     "output_type": "stream",
     "text": [
      "Epoch 1, Validation Loss: 2.2682\n",
      "Epoch 2, Validation Loss: 0.6672\n",
      "Epoch 3, Validation Loss: 1.0218\n",
      "Epoch 4, Validation Loss: 0.9182\n",
      "Epoch 5, Validation Loss: 1.4653\n",
      "Epoch 6, Validation Loss: 1.1760\n",
      "Epoch 7, Validation Loss: 1.5773\n",
      "Epoch 8, Validation Loss: 1.3409\n",
      "Epoch 9, Validation Loss: 1.3877\n",
      "Epoch 10, Validation Loss: 0.5951\n",
      "Epoch 11, Validation Loss: 0.5827\n",
      "Epoch 12, Validation Loss: 1.7920\n",
      "Epoch 13, Validation Loss: 0.4043\n",
      "Epoch 14, Validation Loss: 0.8659\n",
      "Epoch 15, Validation Loss: 0.3256\n",
      "Epoch 16, Validation Loss: 0.5050\n",
      "Epoch 17, Validation Loss: 0.5101\n",
      "Epoch 18, Validation Loss: 1.4225\n",
      "Epoch 19, Validation Loss: 0.4010\n",
      "Epoch 20, Validation Loss: 0.4263\n",
      "Epoch 21, Validation Loss: 0.5423\n",
      "Epoch 22, Validation Loss: 0.4593\n",
      "Epoch 23, Validation Loss: 0.5610\n",
      "Epoch 24, Validation Loss: 0.7868\n",
      "Epoch 25, Validation Loss: 0.4847\n",
      "Early stopping!\n"
     ]
    }
   ],
   "source": [
    "# Train the model with early stopping\n",
    "device = torch.device('cuda' if torch.cuda.is_available() else 'cpu')\n",
    "model.to(device)\n",
    "epochs = 50\n",
    "best_val_loss = float('inf')\n",
    "best_model = None\n",
    "patience = 10\n",
    "patience_counter = 0\n",
    "\n",
    "for epoch in range(epochs):\n",
    "    model.train()\n",
    "    for inputs, labels in train_loader:\n",
    "        inputs, labels = inputs.to(device), labels.to(device)\n",
    "        optimizer.zero_grad()\n",
    "        outputs = model(inputs)\n",
    "        loss = criterion(outputs, labels)\n",
    "        loss.backward()\n",
    "        optimizer.step()\n",
    "\n",
    "    # Validation phase\n",
    "    val_loss = 0\n",
    "    model.eval()\n",
    "    with torch.no_grad():\n",
    "        for val_inputs, val_labels in val_loader:\n",
    "            val_inputs, val_labels = val_inputs.to(device), val_labels.to(device)\n",
    "            val_outputs = model(val_inputs)\n",
    "            val_loss += criterion(val_outputs, val_labels).item()\n",
    "    val_loss /= len(val_loader)\n",
    "\n",
    "    print(f'Epoch {epoch+1}, Validation Loss: {val_loss:.4f}')\n",
    "\n",
    "    # Early stopping\n",
    "    if val_loss < best_val_loss:\n",
    "        best_val_loss = val_loss\n",
    "        best_model = copy.deepcopy(model)\n",
    "        patience_counter = 0\n",
    "    else:\n",
    "        patience_counter += 1\n",
    "        if patience_counter >= patience:\n",
    "            print(\"Early stopping!\")\n",
    "            break\n",
    "\n",
    "# Load the best model for further use or evaluation\n",
    "model = best_model"
   ]
  },
  {
   "cell_type": "code",
   "execution_count": 10,
   "metadata": {},
   "outputs": [],
   "source": [
    "# Convert test data to tensor\n",
    "X_test_tensor = torch.tensor(X_test, dtype=torch.float32)\n",
    "y_test_tensor = torch.tensor(y_test, dtype=torch.long)\n",
    "\n",
    "# Create test dataset and loader\n",
    "test_dataset = MyDataset(X_test_tensor, y_test_tensor)\n",
    "test_loader = DataLoader(dataset=test_dataset, batch_size=10)\n",
    "\n",
    "# Predict the labels for test dataset\n",
    "y_pred = []\n",
    "y_true = []\n",
    "model.eval()\n",
    "with torch.no_grad():\n",
    "    for inputs, labels in test_loader:\n",
    "        inputs = inputs.to(device)\n",
    "        outputs = model(inputs)\n",
    "        _, predicted = torch.max(outputs.data, 1)\n",
    "        y_pred.extend(predicted.cpu().numpy())\n",
    "        y_true.extend(labels.cpu().numpy())"
   ]
  },
  {
   "cell_type": "code",
   "execution_count": 11,
   "metadata": {},
   "outputs": [
    {
     "name": "stdout",
     "output_type": "stream",
     "text": [
      "Classification Report:\n",
      "              precision    recall  f1-score   support\n",
      "\n",
      "           0       0.77      0.66      0.71        41\n",
      "           1       0.72      0.82      0.77        44\n",
      "\n",
      "    accuracy                           0.74        85\n",
      "   macro avg       0.75      0.74      0.74        85\n",
      "weighted avg       0.74      0.74      0.74        85\n",
      "\n"
     ]
    }
   ],
   "source": [
    "# Generate classification report\n",
    "print(\"Classification Report:\")\n",
    "print(classification_report(y_true, y_pred))"
   ]
  },
  {
   "cell_type": "code",
   "execution_count": 12,
   "metadata": {},
   "outputs": [
    {
     "data": {
      "image/png": "[encoded data removed]",
      "text/plain": [
       "<Figure size 800x600 with 2 Axes>"
      ]
     },
     "metadata": {},
     "output_type": "display_data"
    }
   ],
   "source": [
    "# Generate confusion matrix\n",
    "conf_matrix = confusion_matrix(y_true, y_pred)\n",
    "\n",
    "# Plot confusion matrix\n",
    "plt.figure(figsize=(8, 6))\n",
    "sns.heatmap(conf_matrix, annot=True, fmt=\"d\", cmap='Blues', xticklabels=['Class 0', 'Class 1'], yticklabels=['Class 0', 'Class 1'])\n",
    "plt.title('Confusion Matrix')\n",
    "plt.ylabel('True Class')\n",
    "plt.xlabel('Predicted Class')\n",
    "plt.show()"
   ]
  },
  {
   "cell_type": "code",
   "execution_count": 15,
   "metadata": {},
   "outputs": [],
   "source": [
    "accuracy = accuracy_score(y_true, y_pred)\n",
    "precision = precision_score(y_true, y_pred, average='binary')\n",
    "recall = recall_score(y_true, y_pred, average='binary')\n",
    "f1 = f1_score(y_true, y_pred, average='binary')"
   ]
  },
  {
   "cell_type": "code",
   "execution_count": 17,
   "metadata": {},
   "outputs": [
    {
     "data": {
      "image/png": "[encoded data removed]",
      "text/plain": [
       "<Figure size 640x480 with 1 Axes>"
      ]
     },
     "metadata": {},
     "output_type": "display_data"
    }
   ],
   "source": [
    "# Visualize the model evaluation metrics\n",
    "metrics = ['Accuracy', 'Precision', 'Recall', 'F1 Score']\n",
    "values = [accuracy, precision, recall, f1]\n",
    "\n",
    "plt.bar(metrics, values, color=['blue', 'green', 'red', 'purple'])\n",
    "plt.ylabel('Score')\n",
    "plt.title('ResNet50 Evaluation Metrics')\n",
    "plt.ylim(0, 1)  # to set y-axis limits from 0 to 1\n",
    "plt.show()"
   ]
  }
 ],
 "metadata": {
  "kernelspec": {
   "display_name": "neu-capstone-venv",
   "language": "python",
   "name": "python3"
  },
  "language_info": {
   "codemirror_mode": {
    "name": "ipython",
    "version": 3
   },
   "file_extension": ".py",
   "mimetype": "text/x-python",
   "name": "python",
   "nbconvert_exporter": "python",
   "pygments_lexer": "ipython3",
   "version": "3.11.6"
  }
 },
 "nbformat": 4,
 "nbformat_minor": 2
}

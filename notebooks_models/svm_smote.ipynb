{
 "cells": [
  {
   "cell_type": "code",
   "execution_count": 16,
   "metadata": {},
   "outputs": [],
   "source": [
    "import numpy as np\n",
    "import pandas as pd\n",
    "import matplotlib.pyplot as plt\n",
    "import ast\n",
    "\n",
    "from sklearn.model_selection import train_test_split\n",
    "from sklearn import svm\n",
    "from sklearn.metrics import classification_report, confusion_matrix, accuracy_score, precision_score, recall_score, average_precision_score\n",
    "from sklearn.model_selection import GridSearchCV, StratifiedShuffleSplit\n",
    "from imblearn.over_sampling import SMOTE\n"
   ]
  },
  {
   "cell_type": "code",
   "execution_count": 17,
   "metadata": {},
   "outputs": [
    {
     "name": "stdout",
     "output_type": "stream",
     "text": [
      "<class 'pandas.core.frame.DataFrame'>\n",
      "RangeIndex: 251 entries, 0 to 250\n",
      "Data columns (total 8 columns):\n",
      " #   Column  Non-Null Count  Dtype \n",
      "---  ------  --------------  ----- \n",
      " 0   ID      251 non-null    object\n",
      " 1   split   251 non-null    object\n",
      " 2   Label   251 non-null    bool  \n",
      " 3   NDVI    251 non-null    object\n",
      " 4   NBR     251 non-null    object\n",
      " 5   NDWI    251 non-null    object\n",
      " 6   NDBI    251 non-null    object\n",
      " 7   RGB     251 non-null    object\n",
      "dtypes: bool(1), object(7)\n",
      "memory usage: 14.1+ KB\n"
     ]
    }
   ],
   "source": [
    "# Load data\n",
    "# This assumes data is in a DataFrame called df with 'NDVI', 'NBR' as columns and 'label' as target column\n",
    "\n",
    "data = pd.read_csv('../dataset_tables/final_dataset.csv')\n",
    "data.info()\n"
   ]
  },
  {
   "cell_type": "code",
   "execution_count": 18,
   "metadata": {},
   "outputs": [],
   "source": [
    "# Randomly drop 190 rows where label is 0\n",
    "data = data.drop(data[data.Label == 0].sample(190, random_state=1).index)"
   ]
  },
  {
   "cell_type": "code",
   "execution_count": 19,
   "metadata": {},
   "outputs": [],
   "source": [
    "def convert_string_to_list(item):\n",
    "    if isinstance(item, (int, float)):\n",
    "        return [item]\n",
    "    s = str(item)\n",
    "    s = s.replace('nan', '0')\n",
    "    lst = ast.literal_eval(s)\n",
    "    return lst\n",
    "\n",
    "data['NDVI'] = data['NDVI'].apply(lambda x: convert_string_to_list(x))\n",
    "data['NDWI'] = data['NDWI'].apply(lambda x: convert_string_to_list(x))"
   ]
  },
  {
   "cell_type": "code",
   "execution_count": 20,
   "metadata": {},
   "outputs": [],
   "source": [
    "# Combine NDVI and NDWI data into a single feature array\n",
    "X = np.array([np.ravel(ndvi + ndwi) for ndvi, ndwi in zip(data['NDVI'], data['NDWI'])])\n",
    "X = np.nan_to_num(X)\n",
    "\n",
    "# Labels\n",
    "y = data['Label'].values\n",
    "\n",
    "#X_train, X_test, y_train, y_test = train_test_split(X, y, test_size=0.3, random_state=42)\n"
   ]
  },
  {
   "cell_type": "code",
   "execution_count": 21,
   "metadata": {},
   "outputs": [],
   "source": [
    "# Apply SMOTE to deal with class imbalance\n",
    "smote = SMOTE(random_state=42)\n",
    "X_resampled, y_resampled = smote.fit_resample(X, y)"
   ]
  },
  {
   "cell_type": "code",
   "execution_count": 22,
   "metadata": {},
   "outputs": [],
   "source": [
    "# Split data into train and test sets\n",
    "X_train, X_test, y_train, y_test = train_test_split(X_resampled, y_resampled, test_size=0.3, random_state=42)\n"
   ]
  },
  {
   "cell_type": "code",
   "execution_count": 23,
   "metadata": {},
   "outputs": [
    {
     "name": "stdout",
     "output_type": "stream",
     "text": [
      "[ 0.60331858  0.41760847  0.3545447  ... -0.30681751 -0.31184443\n",
      " -0.29825805]\n",
      "[ 0.41767032  0.23446855  0.11592291 ... -0.08731844 -0.27310941\n",
      " -0.25923043]\n",
      "[ 0.33272452  0.18827997  0.18282238 ... -0.03340902  0.00441046\n",
      " -0.0031836 ]\n",
      "[ 0.50873469  0.50530173  0.33406787 ...  0.03577382 -0.04313533\n",
      " -0.07115356]\n",
      "[ 0.75857934  0.68695925  0.73336144 ... -0.61710927 -0.6175118\n",
      " -0.64118194]\n",
      "[ 0.40702504  0.50437515  0.5622763  ... -0.06020712 -0.12847891\n",
      " -0.13444414]\n",
      "[ 0.5312659   0.46114016  0.49824539 ... -0.25057905 -0.38144523\n",
      " -0.40959688]\n",
      "[ 0.36843349 -0.06521698  0.64037915 ... -0.28274601 -0.2856083\n",
      " -0.27313807]\n",
      "[ 0.73965736  0.71085592  0.69210087 ... -0.41459616 -0.42814125\n",
      " -0.42729626]\n",
      "[0. 0. 0. ... 0. 0. 0.]\n",
      "[0. 0. 0. ... 0. 0. 0.]\n",
      "[0. 0. 0. ... 0. 0. 0.]\n",
      "[ 0.4895514   0.40703136  0.4162904  ... -0.02827155 -0.09287851\n",
      " -0.05254952]\n",
      "[ 0.25114152  0.18164969  0.18178905 ... -0.21437984 -0.20497164\n",
      " -0.23702165]\n",
      "[0.69443204 0.51923945 0.55318891 ... 0.48898636 0.48487616 0.45744375]\n",
      "[ 0.          0.          0.         ... -0.09200193 -0.05068906\n",
      " -0.06033901]\n",
      "[-0.03514034 -0.17906935 -0.09926781 ... -0.06026527 -0.09539706\n",
      " -0.10448733]\n",
      "[-0.27970589 -0.62193419  0.12679735 ...  0.          0.\n",
      "  0.        ]\n",
      "[0. 0. 0. ... 0. 0. 0.]\n",
      "[ 0.88132971  0.87571011  0.85737057 ... -0.66982817 -0.3403103\n",
      "  0.03072845]\n",
      "[ 0.31030064 -0.32490312  0.66670776 ... -0.0373489   0.00442528\n",
      " -0.01048066]\n",
      "[-0.64570844 -0.59805699 -0.56107478 ... -0.17087184 -0.13687604\n",
      " -0.09924107]\n",
      "[0. 0. 0. ... 0. 0. 0.]\n",
      "[ 0.22868902  0.53384084  0.51190433 ... -0.10226228 -0.12102193\n",
      " -0.11817649]\n",
      "[ 0.37549575  0.19389686  0.10148188 ... -0.05789913 -0.22067423\n",
      " -0.23072626]\n",
      "[ 0.15306553 -0.19944396 -0.61797181 ... -0.00514582 -0.01598782\n",
      "  0.03751144]\n",
      "[0. 0. 0. ... 0. 0. 0.]\n",
      "[0. 0. 0. ... 0. 0. 0.]\n",
      "[0.80173904 0.80444798 0.79087088 ... 0.         0.         0.        ]\n",
      "[0. 0. 0. ... 0. 0. 0.]\n",
      "[0. 0. 0. ... 0. 0. 0.]\n",
      "[-0.47069343 -0.47252487 -0.47223283 ...  0.00070879  0.13091027\n",
      "  0.17657412]\n",
      "[ 0.10345527 -0.05001303  0.10392353 ... -0.05225223  0.06700961\n",
      "  0.13632936]\n",
      "[ 0.02756712  0.20129417  0.18468467 ... -0.07965972 -0.081431\n",
      " -0.15557765]\n",
      "[ 0.68556256  0.6092373   0.71253805 ... -0.76011697 -0.77797051\n",
      " -0.76905341]\n",
      "[ 0.41807935  0.40775813  0.46340611 ... -0.26249423 -0.35704816\n",
      " -0.35490723]\n",
      "[-0.12356214 -0.24088931  0.32752668 ... -0.1353735  -0.26212889\n",
      " -0.2298705 ]\n",
      "[ 0.01918443  0.18289769  0.1300913  ... -0.08440494 -0.08304762\n",
      " -0.15258482]\n",
      "[0. 0. 0. ... 0. 0. 0.]\n",
      "[0. 0. 0. ... 0. 0. 0.]\n",
      "[ 0.40542084  0.13816437  0.27488204 ... -0.24485159 -0.2162704\n",
      " -0.23505184]\n",
      "[-0.46648037 -0.57416174 -0.29516176 ...  0.          0.\n",
      "  0.        ]\n",
      "[ 0.78596433  0.743387    0.77890739 ... -0.50630262 -0.62637496\n",
      " -0.60018601]\n",
      "[ 0.48835335  0.48577677  0.41374497 ... -0.12026634 -0.07946184\n",
      " -0.06795043]\n",
      "[ 0.5367241   0.54293239  0.47815221 ... -0.0517573  -0.2503032\n",
      " -0.2710236 ]\n",
      "[ 0.26753967  0.34194966  0.30992329 ... -0.06654693 -0.06673585\n",
      " -0.06166414]\n",
      "[ 0.43472757  0.38828295  0.32206476 ...  0.44136834  0.2812234\n",
      " -0.03157603]\n",
      "[0.52713815 0.66016273 0.529254   ... 0.27435403 0.22351079 0.27732674]\n",
      "[ 0.          0.          0.         ... -0.01456188  0.12774295\n",
      " -0.05246823]\n",
      "[0. 0. 0. ... 0. 0. 0.]\n",
      "[ 0.66123464  0.64965227  0.63715479 ... -0.51661556 -0.5326415\n",
      " -0.41853913]\n",
      "[ 0.69433573  0.64624998  0.86261098 ... -0.7372862  -0.712806\n",
      " -0.63926984]\n",
      "[ 0.51205115  0.33234176 -0.47767334 ... -0.37660881 -0.27301899\n",
      "  0.4449142 ]\n",
      "[ 0.43046203  0.48298496 -0.20242772 ... -0.03954223 -0.03196471\n",
      " -0.18068889]\n",
      "[0.03783567 0.12128094 0.23327927 ... 0.         0.         0.        ]\n",
      "[0. 0. 0. ... 0. 0. 0.]\n",
      "[0. 0. 0. ... 0. 0. 0.]\n",
      "[0.15094188 0.1525979  0.24511911 ... 0.         0.         0.        ]\n",
      "[0.14721412 0.20160075 0.35202812 ... 0.         0.         0.        ]\n",
      "[ 0.26556903 -0.02516949 -0.98933637 ... -0.06037101 -0.06695165\n",
      "  0.01166998]\n",
      "[ 0.34948629  0.60856974  0.52172607 ... -0.10780476 -0.10631466\n",
      " -0.13742904]\n"
     ]
    }
   ],
   "source": [
    "for i in range(len(X)):\n",
    "    print(X[i])"
   ]
  },
  {
   "cell_type": "code",
   "execution_count": 24,
   "metadata": {},
   "outputs": [
    {
     "name": "stdout",
     "output_type": "stream",
     "text": [
      "The best parameters are {'C': 10.0, 'gamma': 0.01} with a score of 0.91\n"
     ]
    }
   ],
   "source": [
    "# Fine tune gamma and C range for RBF kernel\n",
    "C_range = np.logspace(-3, 3, 7)\n",
    "gamma_range = np.logspace(-9, 3, 13)\n",
    "param_grid = dict(gamma=gamma_range, C=C_range)\n",
    "cv = StratifiedShuffleSplit(n_splits=5, test_size=0.2, random_state=42)\n",
    "grid = GridSearchCV(svm.SVC(), param_grid=param_grid, cv=cv)\n",
    "grid.fit(X_train, y_train)\n",
    "\n",
    "print(\n",
    "    \"The best parameters are %s with a score of %0.2f\"\n",
    "    % (grid.best_params_, grid.best_score_)\n",
    ")\n"
   ]
  },
  {
   "cell_type": "code",
   "execution_count": 25,
   "metadata": {},
   "outputs": [],
   "source": [
    "# Classifier used: Radial Basis Function (RBF)\n",
    "# it can combine multiple polynomial kernels multiple times of different degrees to\n",
    "# project the non-linearly separable data into higher dimensional space\n",
    "\n",
    "# gamma: https://www.ibm.com/docs/sr/spss-modeler/18.0.0?topic=node-svm-expert-options\n",
    "# C: https://vitalflux.com/svm-rbf-kernel-parameters-code-sample/\n",
    "\n",
    "# Train SVM model with best parameters\n",
    "model = svm.SVC(kernel='rbf', gamma=grid.best_params_['gamma'], C=grid.best_params_['C']).fit(X_train, y_train)\n"
   ]
  },
  {
   "cell_type": "code",
   "execution_count": 26,
   "metadata": {},
   "outputs": [],
   "source": [
    "# Calculate model efficiency\n",
    "\n",
    "y_pred = model.predict(X_test)\n"
   ]
  },
  {
   "cell_type": "code",
   "execution_count": 27,
   "metadata": {},
   "outputs": [
    {
     "name": "stdout",
     "output_type": "stream",
     "text": [
      "Accuracy: 0.7037\n",
      "Precision: 0.8000\n",
      "Recall: 0.7333\n",
      "Mean Average Precision: 0.7630\n",
      "F1-score: 0.7652\n",
      "\n",
      "Classification Report:\n",
      "              precision    recall  f1-score   support\n",
      "\n",
      "       False       0.60      1.00      0.75        12\n",
      "        True       1.00      0.47      0.64        15\n",
      "\n",
      "    accuracy                           0.70        27\n",
      "   macro avg       0.80      0.73      0.69        27\n",
      "weighted avg       0.82      0.70      0.69        27\n",
      "\n",
      "\n",
      "Confusion Matrix:\n",
      "[[12  0]\n",
      " [ 8  7]]\n"
     ]
    }
   ],
   "source": [
    "# Calculate model evaluation metrics\n",
    "accuracy = accuracy_score(y_test, y_pred)\n",
    "precision = precision_score(y_test, y_pred, average='macro')\n",
    "recall = recall_score(y_test, y_pred, average='macro')\n",
    "average_precision = average_precision_score(y_test, y_pred, average='macro')\n",
    "f1_score = 2 * (precision * recall) / (precision + recall)\n",
    "\n",
    "print(f\"Accuracy: {accuracy:.4f}\")\n",
    "print(f\"Precision: {precision:.4f}\")\n",
    "print(f\"Recall: {recall:.4f}\")\n",
    "print(f\"Mean Average Precision: {average_precision:.4f}\")\n",
    "print(f\"F1-score: {f1_score:.4f}\")\n",
    "\n",
    "print(\"\\nClassification Report:\")\n",
    "print(classification_report(y_test, y_pred))\n",
    "print(\"\\nConfusion Matrix:\")\n",
    "print(confusion_matrix(y_test, y_pred))\n"
   ]
  },
  {
   "cell_type": "code",
   "execution_count": 28,
   "metadata": {},
   "outputs": [
    {
     "data": {
      "image/png": "[encoded data removed]",
      "text/plain": [
       "<Figure size 640x480 with 1 Axes>"
      ]
     },
     "metadata": {},
     "output_type": "display_data"
    }
   ],
   "source": [
    "# Visualize the model evaluation metrics\n",
    "metrics = ['Accuracy', 'Precision', 'Recall', 'F1-score']\n",
    "values = [accuracy, precision, recall, f1_score]\n",
    "\n",
    "bars = plt.bar(metrics, values, color=['blue', 'green', 'red', 'orange'])\n",
    "\n",
    "for bar in bars:\n",
    "    yval = bar.get_height()\n",
    "    plt.text(bar.get_x() + bar.get_width()/2, yval + 0.01, round(yval, 3), ha='center', va='bottom')\n",
    "\n",
    "plt.ylabel('Score')\n",
    "plt.title('Model Evaluation Metrics - SVM')\n",
    "plt.ylim(0, 1)\n",
    "plt.show()\n"
   ]
  },
  {
   "cell_type": "code",
   "execution_count": null,
   "metadata": {},
   "outputs": [],
   "source": []
  }
 ],
 "metadata": {
  "kernelspec": {
   "display_name": "env",
   "language": "python",
   "name": "python3"
  },
  "language_info": {
   "codemirror_mode": {
    "name": "ipython",
    "version": 3
   },
   "file_extension": ".py",
   "mimetype": "text/x-python",
   "name": "python",
   "nbconvert_exporter": "python",
   "pygments_lexer": "ipython3",
   "version": "3.10.7"
  }
 },
 "nbformat": 4,
 "nbformat_minor": 2
}
